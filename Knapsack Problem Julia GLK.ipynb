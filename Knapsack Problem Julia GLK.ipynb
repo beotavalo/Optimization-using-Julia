{
 "cells": [
  {
   "cell_type": "code",
   "execution_count": 31,
   "metadata": {},
   "outputs": [
    {
     "name": "stderr",
     "output_type": "stream",
     "text": [
      "\u001b[32m\u001b[1m  Resolving\u001b[22m\u001b[39m package versions...\n",
      "\u001b[32m\u001b[1mNo Changes\u001b[22m\u001b[39m to `C:\\Users\\braul\\.julia\\environments\\v1.5\\Project.toml`\n",
      "\u001b[32m\u001b[1mNo Changes\u001b[22m\u001b[39m to `C:\\Users\\braul\\.julia\\environments\\v1.5\\Manifest.toml`\n"
     ]
    },
    {
     "data": {
      "text/plain": [
       "A GLPK model"
      ]
     },
     "execution_count": 31,
     "metadata": {},
     "output_type": "execute_result"
    }
   ],
   "source": [
    "#Knapsack Problem Julia using GLPK\n",
    "import Pkg \n",
    "Pkg.add(\"JuMP\")\n",
    "using GLPK, JuMP\n",
    "optimizer = GLPK.Optimizer()"
   ]
  },
  {
   "cell_type": "code",
   "execution_count": 56,
   "metadata": {},
   "outputs": [
    {
     "data": {
      "text/plain": [
       "3.98"
      ]
     },
     "execution_count": 56,
     "metadata": {},
     "output_type": "execute_result"
    }
   ],
   "source": [
    "#Problem data definition\n",
    "c = [2.15, 3.52, 2.34, 3.22, 1.74, 2.85, 4.33, 7.41, 2.56, 4.39]\n",
    "w = [0.25, 0.62, 0.91, 0.85, 0.34, 0.65, 0.79, 0.56, 0.98, 0.78]\n",
    "C = 3.98"
   ]
  },
  {
   "cell_type": "code",
   "execution_count": 57,
   "metadata": {},
   "outputs": [],
   "source": [
    "#Variable\n",
    "x = MOI.add_variables(optimizer, length(c));"
   ]
  },
  {
   "cell_type": "code",
   "execution_count": 58,
   "metadata": {},
   "outputs": [],
   "source": [
    "#Objective \n",
    "MOI.set(\n",
    "           optimizer,\n",
    "           MOI.ObjectiveFunction{MOI.ScalarAffineFunction{Float64}}(),\n",
    "           MOI.ScalarAffineFunction(MOI.ScalarAffineTerm.(c, x), 0.0),\n",
    "       );\n",
    "MOI.set(optimizer, MOI.ObjectiveSense(), MOI.MAX_SENSE)"
   ]
  },
  {
   "cell_type": "code",
   "execution_count": 59,
   "metadata": {},
   "outputs": [],
   "source": [
    "#Constrains \n",
    "MOI.add_constraint(\n",
    "           optimizer,\n",
    "           MOI.ScalarAffineFunction(MOI.ScalarAffineTerm.(w, x), 0.0),\n",
    "           MOI.LessThan(C),\n",
    "       );\n",
    "\n",
    "for x_i in x\n",
    "           MOI.add_constraint(optimizer, MOI.SingleVariable(x_i), MOI.ZeroOne())\n",
    "       end"
   ]
  },
  {
   "cell_type": "code",
   "execution_count": 60,
   "metadata": {},
   "outputs": [
    {
     "data": {
      "text/plain": [
       "OPTIMAL::TerminationStatusCode = 1"
      ]
     },
     "execution_count": 60,
     "metadata": {},
     "output_type": "execute_result"
    }
   ],
   "source": [
    "#Optimizer\n",
    "MOI.optimize!(optimizer)\n",
    "MOI.get(optimizer, MOI.TerminationStatus()) #check after optimization is why the solver stopped, e.g., did it stop because of a time limit or did it stop because it found the optimal solution?\n"
   ]
  },
  {
   "cell_type": "code",
   "execution_count": 61,
   "metadata": {},
   "outputs": [
    {
     "data": {
      "text/plain": [
       "25.020000000000003"
      ]
     },
     "execution_count": 61,
     "metadata": {},
     "output_type": "execute_result"
    }
   ],
   "source": [
    "MOI.get(optimizer, MOI.ObjectiveValue()) #objective value"
   ]
  },
  {
   "cell_type": "code",
   "execution_count": 62,
   "metadata": {},
   "outputs": [
    {
     "data": {
      "text/plain": [
       "10-element Array{Float64,1}:\n",
       " 1.0\n",
       " 1.0\n",
       " 0.0\n",
       " 1.0\n",
       " 0.0\n",
       " 0.0\n",
       " 1.0\n",
       " 1.0\n",
       " 0.0\n",
       " 1.0"
      ]
     },
     "execution_count": 62,
     "metadata": {},
     "output_type": "execute_result"
    }
   ],
   "source": [
    "MOI.get(optimizer, MOI.VariablePrimal(), x) #oprimal solution"
   ]
  },
  {
   "cell_type": "code",
   "execution_count": null,
   "metadata": {},
   "outputs": [],
   "source": []
  }
 ],
 "metadata": {
  "kernelspec": {
   "display_name": "Julia 1.5.3",
   "language": "julia",
   "name": "julia-1.5"
  },
  "language_info": {
   "file_extension": ".jl",
   "mimetype": "application/julia",
   "name": "julia",
   "version": "1.5.3"
  }
 },
 "nbformat": 4,
 "nbformat_minor": 4
}
